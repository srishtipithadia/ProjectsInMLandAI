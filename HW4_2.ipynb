{
  "nbformat": 4,
  "nbformat_minor": 0,
  "metadata": {
    "colab": {
      "provenance": [],
      "collapsed_sections": [],
      "authorship_tag": "ABX9TyNA57xMRB8BvAuDjT3jNpn6",
      "include_colab_link": true
    },
    "kernelspec": {
      "name": "python3",
      "display_name": "Python 3"
    },
    "language_info": {
      "name": "python"
    }
  },
  "cells": [
    {
      "cell_type": "markdown",
      "metadata": {
        "id": "view-in-github",
        "colab_type": "text"
      },
      "source": [
        "<a href=\"https://colab.research.google.com/github/srishtipithadia/ProjectsInMLandAI/blob/main/HW4_2.ipynb\" target=\"_parent\"><img src=\"https://colab.research.google.com/assets/colab-badge.svg\" alt=\"Open In Colab\"/></a>"
      ]
    },
    {
      "cell_type": "markdown",
      "source": [
        "---\n",
        "**Homework 4: Sequence Models**\n",
        "\n",
        "*   By: Srishti Pithadia\n",
        "*   Date: October 21st, 2022\n",
        "\n",
        "\n",
        "---\n"
      ],
      "metadata": {
        "id": "rQOeFqemhm7r"
      }
    },
    {
      "cell_type": "code",
      "source": [
        "# importing required libraries\n",
        "import numpy as np\n",
        "from scipy import spatial"
      ],
      "metadata": {
        "id": "_chJ_IXCG3gr"
      },
      "execution_count": 4,
      "outputs": []
    },
    {
      "cell_type": "code",
      "source": [
        "# link: https://nlp.stanford.edu/projects/glove/\n",
        "\n",
        "# creating dictionary of embeddings \n",
        "em_dict = {}\n",
        "\n",
        "# populating dictionary with key = word & value = vector\n",
        "with open(\"glove.6B.50d.txt\", 'r', encoding=\"utf-8\") as doc:\n",
        "    for line in doc:\n",
        "        toks = line.split()\n",
        "        em_dict[toks[0]] = np.asarray(toks[1:], \"float32\")"
      ],
      "metadata": {
        "id": "lW4Mveiwl-Ib"
      },
      "execution_count": 9,
      "outputs": []
    },
    {
      "cell_type": "code",
      "source": [
        "#cosine score similarity between vectors\n",
        "def cosine_score(w1, w2, em_dict):\n",
        "    if(w1 in em_dict.keys() and w2 in em_dict.keys()):\n",
        "        return 1 - spatial.distance.cosine(em_dict[w1], em_dict[w2])\n",
        "    return None  \n",
        "\n",
        "#dissimilarity score using Euclidean distance\n",
        "def dissimilarity(w1, w2, em_dict):\n",
        "    w1_v = em_dict[w1]\n",
        "    w2_v = em_dict[w2]\n",
        "    return np.linalg.norm(w1_v - w2_v)"
      ],
      "metadata": {
        "id": "c8JdP8VYRw_q"
      },
      "execution_count": 24,
      "outputs": []
    },
    {
      "cell_type": "code",
      "source": [
        "print('Cosine Scores:\\n')\n",
        "print('W1: the    W2: the                Score: {}'.format(cosine_score(\"the\",\"the\", em_dict)))\n",
        "print('W1: the    W2: july               Score: {}'.format(cosine_score(\"the\",\"july\", em_dict)))\n",
        "print('W1: ash    W2: july               Score: {}'.format(cosine_score(\"ash\",\"july\", em_dict)))\n",
        "print('W1: ash    W2: the                Score: {}'.format(cosine_score(\"ash\",\"the\", em_dict)))\n",
        "print('W1: july   W2: development        Score: {}'.format(cosine_score(\"july\",\"development\", em_dict)))\n",
        "print('W1: the    W2: development        Score: {}'.format(cosine_score(\"the\",\"development\", em_dict)))\n",
        "\n",
        "print('\\nDissimilarity Scores:\\n')\n",
        "print('W1: the    W2: the                Score: {}'.format(dissimilarity(\"the\",\"the\", em_dict)))\n",
        "print('W1: the    W2: july               Score: {}'.format(dissimilarity(\"the\",\"july\", em_dict)))\n",
        "print('W1: ash    W2: july               Score: {}'.format(dissimilarity(\"ash\",\"july\", em_dict)))\n",
        "print('W1: ash    W2: the                Score: {}'.format(dissimilarity(\"ash\",\"the\", em_dict)))\n",
        "print('W1: july   W2: development        Score: {}'.format(dissimilarity(\"july\",\"development\", em_dict)))\n",
        "print('W1: the    W2: development        Score: {}'.format(dissimilarity(\"the\",\"development\", em_dict)))\n"
      ],
      "metadata": {
        "colab": {
          "base_uri": "https://localhost:8080/"
        },
        "id": "j0qpb6WcA6Tl",
        "outputId": "fe99e2b3-96fa-4033-be17-f93c1b793691"
      },
      "execution_count": 27,
      "outputs": [
        {
          "output_type": "stream",
          "name": "stdout",
          "text": [
            "Cosine Scores:\n",
            "\n",
            "W1: the    W2: the                Score: 1\n",
            "W1: the    W2: july               Score: 0.6155951023101807\n",
            "W1: ash    W2: july               Score: 0.19529831409454346\n",
            "W1: ash    W2: the                Score: 0.27327850461006165\n",
            "W1: july   W2: development        Score: 0.385134220123291\n",
            "W1: the    W2: development        Score: 0.6546069979667664\n",
            "\n",
            "Dissimilarity Scores:\n",
            "\n",
            "W1: the    W2: the                Score: 0.0\n",
            "W1: the    W2: july               Score: 4.68362283706665\n",
            "W1: ash    W2: july               Score: 6.640139102935791\n",
            "W1: ash    W2: the                Score: 5.8831071853637695\n",
            "W1: july   W2: development        Score: 6.24981164932251\n",
            "W1: the    W2: development        Score: 4.451910495758057\n"
          ]
        }
      ]
    },
    {
      "cell_type": "markdown",
      "source": [
        "The cosine score is 1 when comparing the same word, but for the dissimilarity score it's 0 when comparing the same word. As you can see above, words like \"ash\"/\"july\" are the least similar, where words like \"the\"/\"development\" are apparently most similar (excluding the same-word comparisons). These findings are interesting, because they aren't what a person would usually expect."
      ],
      "metadata": {
        "id": "rdeURG9WLSYZ"
      }
    }
  ]
}